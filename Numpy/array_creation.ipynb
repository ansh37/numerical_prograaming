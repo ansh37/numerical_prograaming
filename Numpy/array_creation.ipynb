{
 "cells": [
  {
   "cell_type": "markdown",
   "metadata": {},
   "source": [
    "#  Numpy Array Creation\n"
   ]
  },
  {
   "cell_type": "code",
   "execution_count": 1,
   "metadata": {},
   "outputs": [
    {
     "data": {
      "text/plain": [
       "array([1, 2, 3, 4])"
      ]
     },
     "execution_count": 1,
     "metadata": {},
     "output_type": "execute_result"
    }
   ],
   "source": [
    "# Numpy arrays can be created using various functions but simple one is numpy.array\n",
    "\n",
    "import numpy as np\n",
    "\n",
    "x = np.array([1,2,3,4])\n",
    "x"
   ]
  },
  {
   "cell_type": "code",
   "execution_count": 3,
   "metadata": {},
   "outputs": [
    {
     "data": {
      "text/plain": [
       "(array([1, 2, 3]), array([1, 2, 3]))"
      ]
     },
     "execution_count": 3,
     "metadata": {},
     "output_type": "execute_result"
    }
   ],
   "source": [
    "# array can be created using prebuild lists or tuples\n",
    "values_l = [1,2,3]\n",
    "values_t = (1,2,3)\n",
    "\n",
    "array1 = np.array(values_l)\n",
    "array2 = np.array(values_t)\n",
    "array1, array2"
   ]
  },
  {
   "cell_type": "code",
   "execution_count": 4,
   "metadata": {},
   "outputs": [
    {
     "data": {
      "text/plain": [
       "(array([[1],\n",
       "        [2],\n",
       "        [3]]),\n",
       " array([[1, 2],\n",
       "        [1, 3]]))"
      ]
     },
     "execution_count": 4,
     "metadata": {},
     "output_type": "execute_result"
    }
   ],
   "source": [
    "# multidimensional lista and tuple can also be convert using array function\n",
    "values_l = [[1],[2],[3]]\n",
    "values_t = ((1,2),(1,3))\n",
    "\n",
    "array1 = np.array(values_l)\n",
    "array2 = np.array(values_t)\n",
    "array1, array2"
   ]
  },
  {
   "cell_type": "code",
   "execution_count": 6,
   "metadata": {},
   "outputs": [
    {
     "data": {
      "text/plain": [
       "(array([0, 1, 2, 3, 4, 5, 6, 7, 8, 9]),\n",
       " array([5, 6, 7, 8, 9]),\n",
       " array([ 5, 15, 25, 35, 45]))"
      ]
     },
     "execution_count": 6,
     "metadata": {},
     "output_type": "execute_result"
    }
   ],
   "source": [
    "# another function is numpy.arange\n",
    "\n",
    "# array of values from 0 to 9 or can be seen as first 10 vlaues start from 0\n",
    "arr1 = np.arange(10) \n",
    "\n",
    "# array between range\n",
    "arr2 = np.arange(5,10)\n",
    "\n",
    "# array between range with steps\n",
    "arr3 = np.arange(5,50,10)\n",
    "\n",
    "arr1, arr2, arr3"
   ]
  },
  {
   "cell_type": "code",
   "execution_count": 11,
   "metadata": {},
   "outputs": [
    {
     "name": "stdout",
     "output_type": "stream",
     "text": [
      "[1. 5.]\n",
      "[1. 5.] 4.0\n",
      "[ 1.  4.  7. 10.] [1.   3.25 5.5  7.75]\n"
     ]
    }
   ],
   "source": [
    "# linspace function\n",
    "# return array values between range with equally space \n",
    "# default num of values has to be return is 50\n",
    "\n",
    "# 2 samples between 1 to 5 \n",
    "arr = np.linspace(1,5, 2)\n",
    "print(arr)\n",
    "\n",
    "# linspace has one important parameter 'retstep = false' if it is set to true then function also return space value with array\n",
    "arr, space = np.linspace(1, 5, 2, retstep = True)\n",
    "\n",
    "print(arr, space)\n",
    "\n",
    "# one more important parameter is 'endpoint = True'\n",
    "# if it is true then output value is [start, stop] else [start, stop)\n",
    "arr = np.linspace(1,10, 4)\n",
    "arr_end = np.linspace(1,10, 4, endpoint = False)\n",
    "\n",
    "print(arr, arr_end)"
   ]
  },
  {
   "cell_type": "code",
   "execution_count": 41,
   "metadata": {},
   "outputs": [
    {
     "name": "stdout",
     "output_type": "stream",
     "text": [
      "[0. 1. 2.]\n"
     ]
    },
    {
     "data": {
      "text/plain": [
       "array([0, 1, 2], dtype=int64)"
      ]
     },
     "execution_count": 41,
     "metadata": {},
     "output_type": "execute_result"
    }
   ],
   "source": [
    "# dtype is also a important parameter invarious function that define type of data in array\n",
    "# float64 \n",
    "a = np.arange(3, dtype='f8')\n",
    "print(a)\n",
    "\n",
    "# int64\n",
    "a = np.arange(3, dtype='i8')\n",
    "a"
   ]
  },
  {
   "cell_type": "code",
   "execution_count": null,
   "metadata": {},
   "outputs": [],
   "source": []
  },
  {
   "cell_type": "markdown",
   "metadata": {},
   "source": [
    "# Numpy Arrays vs Python Lists"
   ]
  },
  {
   "cell_type": "code",
   "execution_count": 21,
   "metadata": {},
   "outputs": [
    {
     "name": "stdout",
     "output_type": "stream",
     "text": [
      "<class 'list'> <class 'numpy.ndarray'>\n",
      "[72, 36, 171] [ 72  36 171]\n"
     ]
    },
    {
     "data": {
      "text/plain": [
       "<matplotlib.image.AxesImage at 0x283501f5a08>"
      ]
     },
     "execution_count": 21,
     "metadata": {},
     "output_type": "execute_result"
    },
    {
     "data": {
      "image/png": "[encoded data removed]",
      "text/plain": [
       "<Figure size 432x288 with 1 Axes>"
      ]
     },
     "metadata": {
      "needs_background": "light"
     },
     "output_type": "display_data"
    }
   ],
   "source": [
    "# Creation\n",
    "l = [24, 12, 57]\n",
    "a = np.array([24, 12, 57])\n",
    "\n",
    "print(type(l), type(a))\n",
    "\n",
    "# Computation on values\n",
    "# multiply 3 to each value\n",
    "l_ = [i * 3 for i in l]\n",
    "a_ = a * 3\n",
    "\n",
    "print(l_, a_)\n",
    "\n",
    "# Memory Consumption Numpy array Vs List\n",
    "import matplotlib.pyplot as plt\n",
    "\n",
    "img1 = plt.imread('C:\\\\Users\\\\Anshul\\\\OneDrive\\\\Desktop\\\\list.jpg')\n",
    "img2 = plt.imread('C:\\\\Users\\\\Anshul\\\\OneDrive\\\\Desktop\\\\array.jpg')\n",
    "\n",
    "\n",
    "plt.axis('off')\n",
    "# plot raw pixel data\n",
    "plt.imshow(img1)\n",
    "\n",
    "# we will see meaning of this codes but here our aim is to understand internal structure of list"
   ]
  },
  {
   "cell_type": "code",
   "execution_count": 20,
   "metadata": {},
   "outputs": [
    {
     "data": {
      "text/plain": [
       "<matplotlib.image.AxesImage at 0x28350192e88>"
      ]
     },
     "execution_count": 20,
     "metadata": {},
     "output_type": "execute_result"
    },
    {
     "data": {
      "image/png": "[encoded data removed]",
      "text/plain": [
       "<Figure size 432x288 with 1 Axes>"
      ]
     },
     "metadata": {
      "needs_background": "light"
     },
     "output_type": "display_data"
    }
   ],
   "source": [
    "# internal structure of array can be seen as\n",
    "plt.axis(\"off\")\n",
    "plt.imshow(img2)"
   ]
  },
  {
   "cell_type": "code",
   "execution_count": 23,
   "metadata": {},
   "outputs": [
    {
     "name": "stdout",
     "output_type": "stream",
     "text": [
      "484 108\n"
     ]
    }
   ],
   "source": [
    "# calculate Memory consumption in array and lists\n",
    "\n",
    "# general formula  size_of_empty_list + size_of_ref_pointer * no_ref + size_of_type_element * no_element\n",
    "\n",
    "from sys import getsizeof as size\n",
    "\n",
    "\n",
    "# outer body size reference pointer + empty list size\n",
    "size_list_ob = size(list)\n",
    "\n",
    "# size of each element we are assuming that list has only int \n",
    "size_elements = size(l[0]) * len(l) \n",
    "\n",
    "# total size \n",
    "total_list = size_elements + size_list_ob\n",
    "\n",
    "\n",
    "# for arrays getsizeof directly gives size of array\n",
    "# generalize formula  size_of_empty_array + no_of_elements * size_of_type_element\n",
    "total_array = size(a)\n",
    "\n",
    "print(total_list, total_array)"
   ]
  },
  {
   "cell_type": "code",
   "execution_count": 49,
   "metadata": {},
   "outputs": [
    {
     "name": "stdout",
     "output_type": "stream",
     "text": [
      "time to calculate multipication of 3 to each element of numpy array is:  0.04076800000075309\n",
      "time to calculate addition of two lists:  0.11308379999900353\n"
     ]
    }
   ],
   "source": [
    "# time comparision between list and numpy array\n",
    "# using inbuilt timeit module\n",
    "import timeit\n",
    "print(\"time to calculate multipication of scalar to each element of numpy array is: \",\n",
    "     timeit.timeit(\"a = np.arange(100); c = a * 3\", setup = \"import numpy as np\", number = 10000))\n",
    "                   \n",
    "print(\"time to calculate multipication of scalaer to each element of lists: \",\n",
    "      timeit.timeit(\"a = [i for i in range(100)]; c = [i * 3 for i in a]\", number=10000))"
   ]
  },
  {
   "cell_type": "markdown",
   "metadata": {},
   "source": [
    "#### We can see that in terms of time as well as space numpy is far better for calculations.\n"
   ]
  },
  {
   "cell_type": "code",
   "execution_count": null,
   "metadata": {},
   "outputs": [],
   "source": []
  }
 ],
 "metadata": {
  "kernelspec": {
   "display_name": "Python 3.7.7 64-bit ('env1': conda)",
   "language": "python",
   "name": "python37764bitenv1conda8772056fe2764b10b4edf9b592819b07"
  },
  "language_info": {
   "codemirror_mode": {
    "name": "ipython",
    "version": 3
   },
   "file_extension": ".py",
   "mimetype": "text/x-python",
   "name": "python",
   "nbconvert_exporter": "python",
   "pygments_lexer": "ipython3",
   "version": "3.7.7"
  }
 },
 "nbformat": 4,
 "nbformat_minor": 4
}
